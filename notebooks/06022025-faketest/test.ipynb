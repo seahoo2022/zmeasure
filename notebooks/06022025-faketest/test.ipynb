{
 "cells": [
  {
   "cell_type": "code",
   "execution_count": 1,
   "metadata": {},
   "outputs": [],
   "source": [
    "from zmeasure import main\n",
    "from zmeasure.instruments import FakeInstrument\n",
    "from zmeasure import utility\n",
    "import time\n",
    "# import all necessary packages and drivers\n",
    "import numpy as np\n",
    "import pandas as pd\n",
    "import re\n",
    "\n",
    "from functools import  partialmethod,partial\n",
    "from zmeasure.main import (start_process, stop_process,pause_process,resume_process, \n",
    "                                  switch_file, clear_plot,update_PID)\n",
    "# import matplotlib\n",
    "from zmeasure.utility import (cls_all, error_response,get_d,get_disp,get_current_disp,\n",
    "                     get_current_strain,wait_until,get_highest_indx_file, reset_all,get_cernox_temp,mkdir)\n",
    "# global data_to_save\n",
    "from zmeasure.read_write_tab import read_file,read_idx,read_max_idx\n",
    "# %matplotlib inline\n",
    "from zmeasure.experiments import sweep\n",
    "from zmeasure.experiments.sweep import DoubleSweeper\n"
   ]
  },
  {
   "cell_type": "code",
   "execution_count": 2,
   "metadata": {},
   "outputs": [
    {
     "name": "stdout",
     "output_type": "stream",
     "text": [
      "('data',)\n",
      "data already exists\n",
      "data already exists, description file already exists\n",
      "0 0.10384893417358398\n",
      "0 ['Temp'] [0.0] {'Temp': 0.0}\n",
      "1 0.10525298118591309\n",
      "1 ['Field'] [0.0] {'Field': 0.0}\n",
      "overall takes 0.20936870574951172\n",
      "all columns read\n",
      "{'Temp': 0.0, 'Field': 0.0}\n"
     ]
    }
   ],
   "source": [
    "\n",
    "from multiprocessing import Manager\n",
    "manager = Manager()\n",
    "shared_value1 = manager.Value('d', 0.0)  # shared float\n",
    "shared_value2 = manager.Value('d', 0.0)  # shared float\n",
    "\n",
    "fake_instru1 = FakeInstrument(name='Temp',shared=shared_value1)\n",
    "fake_instru2 = FakeInstrument(name='Field',shared=shared_value2)\n",
    "\n",
    "if_plot = False\n",
    "if True: #if_plot use\n",
    "    #plot configuration\n",
    "    ncol, nrow = 3,3\n",
    "    #all plot x,y s\n",
    "    plot_axes_col_names = [\n",
    "        ['sys:time','Temp'],\n",
    "        ['sys:time','Field'],\n",
    "    ]\n",
    "\n",
    "#data saving\n",
    "data_folder = mkdir('data')\n",
    "default_file = 'test_data_file' # first file to save\n",
    "\n",
    "#all data entries saved in files. format as \"instrument_name:reading_name\" reading name can be reset in drivers\n",
    "read_col_names = [\n",
    "    # sys:time,\n",
    "    'Temp',\n",
    "    'Field',\n",
    "]\n",
    "\n",
    "#reading functions are defined in drivers\n",
    "read_funcs = [\n",
    "    fake_instru1.read,\n",
    "    fake_instru2.read,\n",
    "]\n",
    "\n",
    "# test your reading functions, no data selection\n",
    "def read_all(funcs_to_call,read_col_names=read_col_names):\n",
    "        all_data = []\n",
    "        all_data_name = []\n",
    "        for i in range(len(funcs_to_call)):\n",
    "            t1 = time.time()\n",
    "            data,name = error_response(funcs_to_call[i])\n",
    "            print(i,time.time()-t1)\n",
    "            print(i,name,data,{key:value for key,value in zip(name,data)})\n",
    "            all_data += data\n",
    "            all_data_name += name\n",
    "        return np.array(all_data), np.array(all_data_name)\n",
    "t = time.time()\n",
    "all_data, all_data_name = read_all(read_funcs)\n",
    "print('overall takes',time.time()-t)\n",
    "if any([not (x in all_data_name) for x in read_col_names]):\n",
    "    print('columns not in reading')\n",
    "else:\n",
    "    print('all columns read')\n",
    "\n",
    "# if any([not (x in read_col_names) for x in np.array(plot_axes_col_names).flatten()]):\n",
    "#     print('columns not in reading')\n",
    "# else:\n",
    "#     print('all plot axis recorded')\n",
    "print({key:value for key,value in zip(all_data_name,all_data,)})\n",
    "# reset_all(allInstrumentList)\n",
    "# for it in gpibInstrumentList:\n",
    "#     print(it._resource_manager)"
   ]
  },
  {
   "cell_type": "code",
   "execution_count": 3,
   "metadata": {},
   "outputs": [],
   "source": [
    "clear_funcs = []\n",
    "allInstrumentList = []"
   ]
  },
  {
   "cell_type": "code",
   "execution_count": 4,
   "metadata": {},
   "outputs": [],
   "source": [
    "cls_all(clear_funcs)\n",
    "reset_all(allInstrumentList)\n",
    "t0 = time.time()#wait until test\n",
    "t1 = t0\n",
    "start_process(  ncol=ncol,\n",
    "                nrow=nrow,\n",
    "                data_folder=data_folder,\n",
    "                default_file='test_before_cd',\n",
    "                read_col_names=read_col_names,\n",
    "                plot_axes_col_names=plot_axes_col_names,\n",
    "                read_funcs=read_funcs,\n",
    "                if_plot=if_plot,\n",
    "                # PID_control_map = PID_control_map,\n",
    "                # init_PID_value = init_PID_value,\n",
    "                clear_funcs=clear_funcs,\n",
    "                max_plot_N=100,\n",
    "                start_time=t0\n",
    "             )"
   ]
  },
  {
   "cell_type": "code",
   "execution_count": 6,
   "metadata": {},
   "outputs": [
    {
     "name": "stdout",
     "output_type": "stream",
     "text": [
      "0\n",
      "switch file\n",
      "switch file done\n",
      "0\n",
      "switch file\n",
      "switch file done\n",
      "0\n",
      "1\n",
      "1\n",
      "switch file\n",
      "switch file done\n",
      "2\n",
      "2\n",
      "switch file\n",
      "switch file done\n",
      "1\n",
      "0\n",
      "switch file\n",
      "switch file done\n",
      "0\n",
      "switch file\n",
      "switch file done\n",
      "0\n",
      "1\n",
      "1\n",
      "switch file\n",
      "switch file done\n",
      "2\n",
      "2\n",
      "switch file\n",
      "switch file done\n"
     ]
    },
    {
     "ename": "KeyboardInterrupt",
     "evalue": "",
     "output_type": "error",
     "traceback": [
      "\u001b[0;31m---------------------------------------------------------------------------\u001b[0m",
      "\u001b[0;31mKeyboardInterrupt\u001b[0m                         Traceback (most recent call last)",
      "Cell \u001b[0;32mIn[6], line 37\u001b[0m\n\u001b[1;32m     34\u001b[0m field_sweeper \u001b[38;5;241m=\u001b[39m field_sweep()\n\u001b[1;32m     36\u001b[0m double_sweeper \u001b[38;5;241m=\u001b[39m DoubleSweeper(temp_sweeper, field_sweeper)\n\u001b[0;32m---> 37\u001b[0m \u001b[43mdouble_sweeper\u001b[49m\u001b[38;5;241;43m.\u001b[39;49m\u001b[43mrun_double_sweep\u001b[49m\u001b[43m(\u001b[49m\n\u001b[1;32m     38\u001b[0m \u001b[43m    \u001b[49m\u001b[43mouter_sweep_values\u001b[49m\u001b[38;5;241;43m=\u001b[39;49m\u001b[43m[\u001b[49m\u001b[38;5;241;43m0\u001b[39;49m\u001b[43m,\u001b[49m\u001b[43m \u001b[49m\u001b[38;5;241;43m10\u001b[39;49m\u001b[43m,\u001b[49m\u001b[43m \u001b[49m\u001b[38;5;241;43m20\u001b[39;49m\u001b[43m]\u001b[49m\u001b[43m,\u001b[49m\n\u001b[1;32m     39\u001b[0m \u001b[43m    \u001b[49m\u001b[43mouter_sweep_rates\u001b[49m\u001b[38;5;241;43m=\u001b[39;49m\u001b[43m[\u001b[49m\u001b[38;5;241;43m1\u001b[39;49m\u001b[43m,\u001b[49m\u001b[43m \u001b[49m\u001b[38;5;241;43m2\u001b[39;49m\u001b[43m,\u001b[49m\u001b[43m \u001b[49m\u001b[38;5;241;43m3\u001b[39;49m\u001b[43m]\u001b[49m\u001b[43m,\u001b[49m\n\u001b[1;32m     40\u001b[0m \u001b[43m    \u001b[49m\u001b[43mouter_entry_names\u001b[49m\u001b[38;5;241;43m=\u001b[39;49m\u001b[43m[\u001b[49m\u001b[38;5;124;43m'\u001b[39;49m\u001b[38;5;124;43mTemp\u001b[39;49m\u001b[38;5;124;43m'\u001b[39;49m\u001b[43m]\u001b[49m\u001b[43m,\u001b[49m\u001b[43m   \u001b[49m\n\u001b[1;32m     41\u001b[0m \u001b[43m    \u001b[49m\u001b[43mouter_entry_tolerances\u001b[49m\u001b[38;5;241;43m=\u001b[39;49m\u001b[43m[\u001b[49m\u001b[38;5;241;43m0.1\u001b[39;49m\u001b[43m]\u001b[49m\u001b[43m,\u001b[49m\n\u001b[1;32m     42\u001b[0m \u001b[43m    \u001b[49m\n\u001b[1;32m     43\u001b[0m \u001b[43m    \u001b[49m\u001b[43minner_sweep_values\u001b[49m\u001b[38;5;241;43m=\u001b[39;49m\u001b[43m[\u001b[49m\u001b[38;5;241;43m0\u001b[39;49m\u001b[43m,\u001b[49m\u001b[43m \u001b[49m\u001b[38;5;241;43m1\u001b[39;49m\u001b[43m,\u001b[49m\u001b[43m \u001b[49m\u001b[38;5;28;43;01mNone\u001b[39;49;00m\u001b[43m,\u001b[49m\u001b[38;5;241;43m2\u001b[39;49m\u001b[43m]\u001b[49m\u001b[43m,\u001b[49m\n\u001b[1;32m     44\u001b[0m \u001b[43m    \u001b[49m\u001b[43minner_sweep_rates\u001b[49m\u001b[38;5;241;43m=\u001b[39;49m\u001b[43m[\u001b[49m\u001b[38;5;241;43m1\u001b[39;49m\u001b[43m,\u001b[49m\u001b[43m \u001b[49m\u001b[38;5;241;43m2\u001b[39;49m\u001b[43m,\u001b[49m\u001b[43m \u001b[49m\u001b[38;5;28;43;01mNone\u001b[39;49;00m\u001b[43m,\u001b[49m\u001b[43m \u001b[49m\u001b[38;5;241;43m3\u001b[39;49m\u001b[43m]\u001b[49m\u001b[43m,\u001b[49m\n\u001b[1;32m     45\u001b[0m \u001b[43m    \u001b[49m\u001b[43minner_entry_names\u001b[49m\u001b[38;5;241;43m=\u001b[39;49m\u001b[43m[\u001b[49m\u001b[38;5;124;43m'\u001b[39;49m\u001b[38;5;124;43mField\u001b[39;49m\u001b[38;5;124;43m'\u001b[39;49m\u001b[43m]\u001b[49m\u001b[43m,\u001b[49m\n\u001b[1;32m     46\u001b[0m \u001b[43m    \u001b[49m\u001b[43minner_entry_tolerances\u001b[49m\u001b[38;5;241;43m=\u001b[39;49m\u001b[43m[\u001b[49m\u001b[38;5;241;43m0.1\u001b[39;49m\u001b[43m]\u001b[49m\u001b[43m,\u001b[49m\n\u001b[1;32m     47\u001b[0m \n\u001b[1;32m     48\u001b[0m \u001b[43m    \u001b[49m\u001b[43msweep_back\u001b[49m\u001b[43m \u001b[49m\u001b[38;5;241;43m=\u001b[39;49m\u001b[43m \u001b[49m\u001b[38;5;28;43;01mTrue\u001b[39;49;00m\n\u001b[1;32m     49\u001b[0m \u001b[43m)\u001b[49m\n",
      "File \u001b[0;32m~/Documents/GitHub/zmeasure/zmeasure/experiments/sweep.py:153\u001b[0m, in \u001b[0;36mDoubleSweeper.run_double_sweep\u001b[0;34m(self, outer_sweep_values, outer_sweep_rates, outer_entry_names, outer_entry_tolerances, inner_sweep_values, inner_sweep_rates, inner_entry_names, inner_entry_tolerances, sweep_back)\u001b[0m\n\u001b[1;32m    149\u001b[0m \u001b[38;5;66;03m# Sweep inner (full list)\u001b[39;00m\n\u001b[1;32m    150\u001b[0m \u001b[38;5;28mself\u001b[39m\u001b[38;5;241m.\u001b[39minner_sweeper\u001b[38;5;241m.\u001b[39mlabel \u001b[38;5;241m=\u001b[39m \u001b[38;5;124mf\u001b[39m\u001b[38;5;124m\"\u001b[39m\u001b[38;5;132;01m{\u001b[39;00mouter_label\u001b[38;5;132;01m}\u001b[39;00m\u001b[38;5;124m_\u001b[39m\u001b[38;5;132;01m{\u001b[39;00mouter_val\u001b[38;5;132;01m}\u001b[39;00m\u001b[38;5;124m__\u001b[39m\u001b[38;5;132;01m{\u001b[39;00minner_label\u001b[38;5;132;01m}\u001b[39;00m\u001b[38;5;124m\"\u001b[39m\n\u001b[1;32m    151\u001b[0m \u001b[38;5;28mself\u001b[39m\u001b[38;5;241m.\u001b[39minner_sweeper\u001b[38;5;241m.\u001b[39mrun_single_sweep(\n\u001b[1;32m    152\u001b[0m     sweep_values\u001b[38;5;241m=\u001b[39minner_sweep_values,\n\u001b[0;32m--> 153\u001b[0m     sweep_rates\u001b[38;5;241m=\u001b[39minner_sweep_rates,\n\u001b[1;32m    154\u001b[0m     entry_names\u001b[38;5;241m=\u001b[39minner_entry_names,\n\u001b[1;32m    155\u001b[0m     entry_tolerances\u001b[38;5;241m=\u001b[39minner_entry_tolerances,\n\u001b[1;32m    156\u001b[0m )\n",
      "File \u001b[0;32m~/Documents/GitHub/zmeasure/zmeasure/experiments/sweep.py:94\u001b[0m, in \u001b[0;36mSweeper.run_single_sweep\u001b[0;34m(self, sweep_values, sweep_rates, entry_names, entry_tolerances)\u001b[0m\n\u001b[1;32m     85\u001b[0m     comp_codes \u001b[38;5;241m=\u001b[39m [comp_code]\u001b[38;5;241m+\u001b[39m[\u001b[38;5;124m'\u001b[39m\u001b[38;5;124m<\u001b[39m\u001b[38;5;124m'\u001b[39m]\u001b[38;5;241m*\u001b[39m(\u001b[38;5;28mlen\u001b[39m(entry_names)\u001b[38;5;241m-\u001b[39m\u001b[38;5;241m1\u001b[39m)\n\u001b[1;32m     86\u001b[0m     result \u001b[38;5;241m=\u001b[39m \u001b[38;5;28mself\u001b[39m\u001b[38;5;241m.\u001b[39mwait_until(\n\u001b[1;32m     87\u001b[0m         \u001b[38;5;28mself\u001b[39m\u001b[38;5;241m.\u001b[39mread_csv_func,\n\u001b[1;32m     88\u001b[0m         entry_names\u001b[38;5;241m=\u001b[39mentry_names,\n\u001b[0;32m   (...)\u001b[0m\n\u001b[1;32m     91\u001b[0m         stablizes\u001b[38;5;241m=\u001b[39m[\u001b[38;5;28;01mFalse\u001b[39;00m]\u001b[38;5;241m+\u001b[39m[\u001b[38;5;28;01mTrue\u001b[39;00m]\u001b[38;5;241m*\u001b[39m(\u001b[38;5;28mlen\u001b[39m(entry_names)\u001b[38;5;241m-\u001b[39m\u001b[38;5;241m1\u001b[39m),\n\u001b[1;32m     92\u001b[0m     )\n\u001b[0;32m---> 94\u001b[0m     \u001b[43mtime\u001b[49m\u001b[38;5;241;43m.\u001b[39;49m\u001b[43msleep\u001b[49m\u001b[43m(\u001b[49m\u001b[38;5;28;43mself\u001b[39;49m\u001b[38;5;241;43m.\u001b[39;49m\u001b[43mwait_first\u001b[49m\u001b[43m \u001b[49m\u001b[38;5;28;43;01mif\u001b[39;49;00m\u001b[43m \u001b[49m\u001b[43mi\u001b[49m\u001b[43m \u001b[49m\u001b[38;5;241;43m==\u001b[39;49m\u001b[43m \u001b[49m\u001b[38;5;241;43m0\u001b[39;49m\u001b[43m \u001b[49m\u001b[38;5;28;43;01melse\u001b[39;49;00m\u001b[43m \u001b[49m\u001b[38;5;28;43mself\u001b[39;49m\u001b[38;5;241;43m.\u001b[39;49m\u001b[43mwait_rest\u001b[49m\u001b[43m)\u001b[49m\n\u001b[1;32m     96\u001b[0m \u001b[38;5;28;01mreturn\u001b[39;00m\n",
      "\u001b[0;31mKeyboardInterrupt\u001b[0m: "
     ]
    }
   ],
   "source": [
    "class Sweeper(sweep.Sweeper):\n",
    "    def __init__(self, *args, **kwargs):\n",
    "        super().__init__(*args, **kwargs)\n",
    "        self.pause_func = pause_process\n",
    "        self.resume_func = resume_process\n",
    "        self.stop_func = stop_process\n",
    "        self.switch_file_func = switch_file\n",
    "        self.read_csv_func = partial(read_max_idx,folder=data_folder)\n",
    "        \n",
    "class field_sweep(Sweeper):\n",
    "    def __init__(self, *args, **kwargs):\n",
    "        super().__init__(*args, **kwargs)\n",
    "        self.label = \"field\"\n",
    "        self.sweep_func = fake_instru2.write\n",
    "        self.get_current_func = lambda: fake_instru2.read()[0][0]\n",
    "        self.delay_resume = 1\n",
    "        self.wait_first = 0\n",
    "        self.wait_rest = 1\n",
    "        self.safe_rate = 100\n",
    "        \n",
    "\n",
    "class temp_sweep(Sweeper):\n",
    "    def __init__(self, *args, **kwargs):\n",
    "        super().__init__(*args, **kwargs)\n",
    "        self.label = \"temp\"\n",
    "        self.sweep_func = fake_instru1.write\n",
    "        self.get_current_func = lambda: fake_instru1.read()[0][0]\n",
    "        self.delay_resume = 1\n",
    "        self.wait_first = 0\n",
    "        self.wait_rest = 1\n",
    "        self.safe_rate = 1\n",
    "        \n",
    "temp_sweeper = temp_sweep()\n",
    "field_sweeper = field_sweep()\n",
    "\n",
    "double_sweeper = DoubleSweeper(temp_sweeper, field_sweeper)\n",
    "double_sweeper.run_double_sweep(\n",
    "    outer_sweep_values=[0, 10, 20],\n",
    "    outer_sweep_rates=[1, 2, 3],\n",
    "    outer_entry_names=['Temp'],   \n",
    "    outer_entry_tolerances=[0.1],\n",
    "    \n",
    "    inner_sweep_values=[0, 1, None,2],\n",
    "    inner_sweep_rates=[1, 2, None, 3],\n",
    "    inner_entry_names=['Field'],\n",
    "    inner_entry_tolerances=[0.1],\n",
    "\n",
    "    sweep_back = True\n",
    ")"
   ]
  },
  {
   "cell_type": "code",
   "execution_count": 7,
   "metadata": {},
   "outputs": [],
   "source": [
    "stop_process()"
   ]
  },
  {
   "cell_type": "code",
   "execution_count": 7,
   "metadata": {},
   "outputs": [
    {
     "data": {
      "text/plain": [
       "NoneType"
      ]
     },
     "execution_count": 7,
     "metadata": {},
     "output_type": "execute_result"
    }
   ],
   "source": [
    "type(None)"
   ]
  },
  {
   "cell_type": "code",
   "execution_count": 9,
   "metadata": {},
   "outputs": [],
   "source": [
    "temp_sweeper.switch_file_func('test')"
   ]
  },
  {
   "cell_type": "code",
   "execution_count": null,
   "metadata": {},
   "outputs": [],
   "source": []
  }
 ],
 "metadata": {
  "kernelspec": {
   "display_name": "fenix",
   "language": "python",
   "name": "python3"
  },
  "language_info": {
   "codemirror_mode": {
    "name": "ipython",
    "version": 3
   },
   "file_extension": ".py",
   "mimetype": "text/x-python",
   "name": "python",
   "nbconvert_exporter": "python",
   "pygments_lexer": "ipython3",
   "version": "3.10.12"
  }
 },
 "nbformat": 4,
 "nbformat_minor": 2
}
